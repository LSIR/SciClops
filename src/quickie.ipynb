{
 "cells": [
  {
   "cell_type": "markdown",
   "metadata": {},
   "source": [
    "## Reference-based article graph"
   ]
  },
  {
   "cell_type": "code",
   "execution_count": null,
   "metadata": {},
   "outputs": [],
   "source": [
    "from pathlib import Path\n",
    "\n",
    "import numpy as np\n",
    "import pandas as pd\n",
    "import matplotlib.pyplot as plt\n",
    "import seaborn as sns\n",
    "import re\n",
    "\n",
    "from utils import read_graph, analyze_url\n",
    "import networkx as nx\n",
    "\n",
    "from itertools import combinations\n",
    "\n",
    "scilens_dir = str(Path.home()) + '/Dropbox/scilens/'\n",
    "hn_vocabulary = open(scilens_dir + 'small_files/hn_vocabulary/hn_vocabulary.txt').read().splitlines()\n",
    "scilens_dir = scilens_dir + '/cache/diffusion_graph/scilens_3M/'\n",
    "articles = pd.read_csv(scilens_dir + 'article_details_v2.tsv.bz2', sep='\\t')\n",
    "G = read_graph(scilens_dir + 'diffusion_graph_v7.tsv.bz2')\n",
    "articles['refs'] = articles.url.apply(lambda u: set(G[u]))\n",
    "articles = articles.set_index('url')\n",
    "sciclops_dir = str(Path.home()) + '/Dropbox/sciclops/'"
   ]
  },
  {
   "cell_type": "code",
   "execution_count": null,
   "metadata": {},
   "outputs": [],
   "source": [
    "clusters = pd.DataFrame(columns=['refs','articles'])\n"
   ]
  },
  {
   "cell_type": "code",
   "execution_count": null,
   "metadata": {},
   "outputs": [],
   "source": [
    "\n",
    "def add_to_clusters(article, refs, max_combinations=3):\n",
    "    \n",
    "    global clusters\n",
    "    \n",
    "    for c in range(max_combinations):\n",
    "        for comb in combinations(refs, c+1):\n",
    "\n",
    "            if clusters.loc[clusters.refs == comb].empty:\n",
    "                clusters = clusters.append({'refs':comb,'articles':[article]}, ignore_index=True)\n",
    "            else:\n",
    "                clusters.loc[clusters.refs == comb, 'articles'] = clusters.loc[clusters.refs == comb, 'articles'] + [article]\n",
    "\n",
    "\n",
    "                \n",
    "add_to_clusters('article1', ['a'])\n",
    "add_to_clusters('article2', ['a', 'b', 'c'])\n",
    "articles[:5].apply(lambda a: add_to_clusters(a.name, a.refs), axis=1)\n",
    "clusters"
   ]
  },
  {
   "cell_type": "code",
   "execution_count": null,
   "metadata": {},
   "outputs": [],
   "source": [
    "refG = nx.Graph()\n",
    "for u1 in articles.index:\n",
    "    for u2 in articles.index:\n",
    "        if u1<u2:\n",
    "            inter = articles.loc[u1]['refs'].intersection(articles.loc[u2]['refs'])\n",
    "            inter = inter.difference(set(['https://scholar.google.com/scholar_lookup', \n",
    "                                          'https://www.ncbi.nlm.nih.gov/pubmed/',\n",
    "                                          'https://www.ncbi.nlm.nih.gov/entrez/query.fcgi',\n",
    "                                          'https://www.springernature.com/us',\n",
    "                                          'https://www.mendeley.com/import/',\n",
    "                                          'https://www.scopus.com/inward/citedby.url']))\n",
    "            if len(inter) >0:\n",
    "                print (inter, u1, u2)"
   ]
  },
  {
   "cell_type": "markdown",
   "metadata": {},
   "source": [
    "## Topic Modeling"
   ]
  },
  {
   "cell_type": "code",
   "execution_count": null,
   "metadata": {},
   "outputs": [],
   "source": [
    "scilens_dir = scilens_dir + '/cache/diffusion_graph/scilens_3M/'\n",
    "df = pd.read_csv(scilens_dir + 'article_details_v1.tsv.bz2', sep='\\t')"
   ]
  },
  {
   "cell_type": "code",
   "execution_count": null,
   "metadata": {},
   "outputs": [],
   "source": [
    "df['prelude'] = df.title + '\\n' + df.full_text.apply(lambda w: w.split('\\n')[0])"
   ]
  },
  {
   "cell_type": "code",
   "execution_count": null,
   "metadata": {},
   "outputs": [],
   "source": [
    "df['keywords'] = df.prelude.apply(lambda t: set([w for w in hn_vocabulary if w in str(t)]))"
   ]
  },
  {
   "cell_type": "code",
   "execution_count": null,
   "metadata": {},
   "outputs": [],
   "source": [
    "df['keywords'] = df['keywords'][~(df['keywords']=='')]"
   ]
  },
  {
   "cell_type": "code",
   "execution_count": null,
   "metadata": {},
   "outputs": [],
   "source": [
    "from gsdmm import MovieGroupProcess\n",
    "mgp = MovieGroupProcess(K=50, alpha=0.1, beta=0.1, n_iters=50)\n",
    "y = mgp.fit(df.keywords, vocab_size=100)"
   ]
  },
  {
   "cell_type": "code",
   "execution_count": null,
   "metadata": {},
   "outputs": [],
   "source": [
    "mgp.cluster_word_distribution"
   ]
  },
  {
   "cell_type": "code",
   "execution_count": null,
   "metadata": {},
   "outputs": [],
   "source": [
    "df.title.apply(lambda t: len([w for w in hn_vocabulary if w in str(t)])).value_counts()"
   ]
  },
  {
   "cell_type": "code",
   "execution_count": null,
   "metadata": {},
   "outputs": [],
   "source": [
    "df.full_text.apply(lambda t: min(5,len([w for w in hn_vocabulary if w in str(t)]))).value_counts()"
   ]
  },
  {
   "cell_type": "code",
   "execution_count": null,
   "metadata": {},
   "outputs": [],
   "source": [
    "df.full_text.apply(lambda t: min(5,len([w for w in hn_vocabulary if w in str(t.split('\\n')[0])]))).value_counts()"
   ]
  },
  {
   "cell_type": "code",
   "execution_count": null,
   "metadata": {
    "scrolled": true
   },
   "outputs": [],
   "source": [
    "import spacy\n",
    "nlp = spacy.load('en_core_web_lg')"
   ]
  },
  {
   "cell_type": "code",
   "execution_count": null,
   "metadata": {},
   "outputs": [],
   "source": [
    "df['title_vector'] = df.title.apply(lambda x: nlp(str(x)).vector)"
   ]
  },
  {
   "cell_type": "code",
   "execution_count": null,
   "metadata": {},
   "outputs": [],
   "source": [
    "from sklearn.manifold import TSNE\n",
    "tsne_model_en_2d = TSNE(perplexity=30, n_components=2, verbose=1, init='pca', n_iter=3500, random_state=32)\n",
    "\n",
    "tsne_result = tsne_model_en_2d.fit_transform(np.stack(df['title_vector']))\n"
   ]
  },
  {
   "cell_type": "code",
   "execution_count": null,
   "metadata": {},
   "outputs": [],
   "source": [
    "tsne_result.shape"
   ]
  },
  {
   "cell_type": "code",
   "execution_count": null,
   "metadata": {},
   "outputs": [],
   "source": []
  },
  {
   "cell_type": "code",
   "execution_count": null,
   "metadata": {},
   "outputs": [],
   "source": [
    "import seaborn as sns\n",
    "\n",
    "plt.figure(figsize=(16,10))\n",
    "sns.scatterplot(\n",
    "    x = tsne_result[:,0],\n",
    "    y = tsne_result[:,1],\n",
    "    #hue=\"y\",\n",
    "    #palette=sns.color_palette(\"hls\", 10),\n",
    "    #data=tsne_result,\n",
    "    legend=\"full\",\n",
    "    #alpha=0.3\n",
    ")"
   ]
  },
  {
   "cell_type": "code",
   "execution_count": null,
   "metadata": {},
   "outputs": [],
   "source": [
    "from sklearn.feature_extraction.text import TfidfVectorizer\n",
    "\n",
    "vectorizer = TfidfVectorizer(vocabulary=hn_vocabulary)\n",
    "\n",
    "D = vectorizer.fit_transform(list(df.title.apply(str)))"
   ]
  },
  {
   "cell_type": "code",
   "execution_count": null,
   "metadata": {},
   "outputs": [],
   "source": [
    "D.shape"
   ]
  },
  {
   "cell_type": "code",
   "execution_count": null,
   "metadata": {},
   "outputs": [],
   "source": [
    "tsne_result_2 = tsne_model_en_2d.fit_transform(D.toarray())\n"
   ]
  },
  {
   "cell_type": "code",
   "execution_count": null,
   "metadata": {},
   "outputs": [],
   "source": [
    "import seaborn as sns\n",
    "\n",
    "plt.figure(figsize=(16,10))\n",
    "sns.scatterplot(\n",
    "    x = tsne_result_2[:,0],\n",
    "    y = tsne_result_2[:,1],\n",
    "    #hue=\"y\",\n",
    "    #palette=sns.color_palette(\"hls\", 10),\n",
    "    #data=tsne_result,\n",
    "    legend=\"full\",\n",
    "    #alpha=0.3\n",
    ")"
   ]
  },
  {
   "cell_type": "code",
   "execution_count": null,
   "metadata": {},
   "outputs": [],
   "source": []
  }
 ],
 "metadata": {
  "anaconda-cloud": {},
  "kernelspec": {
   "display_name": "Python 3",
   "language": "python",
   "name": "python3"
  },
  "language_info": {
   "codemirror_mode": {
    "name": "ipython",
    "version": 3
   },
   "file_extension": ".py",
   "mimetype": "text/x-python",
   "name": "python",
   "nbconvert_exporter": "python",
   "pygments_lexer": "ipython3",
   "version": "3.7.3"
  },
  "toc": {
   "base_numbering": 1,
   "nav_menu": {},
   "number_sections": true,
   "sideBar": true,
   "skip_h1_title": false,
   "title_cell": "Table of Contents",
   "title_sidebar": "Contents",
   "toc_cell": false,
   "toc_position": {},
   "toc_section_display": true,
   "toc_window_display": false
  }
 },
 "nbformat": 4,
 "nbformat_minor": 1
}
